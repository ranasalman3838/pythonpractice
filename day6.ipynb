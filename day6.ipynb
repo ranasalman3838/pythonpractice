{
 "cells": [
  {
   "cell_type": "code",
   "execution_count": 6,
   "outputs": [],
   "source": [
    "def greet_users(names):\n",
    "\n",
    "    \"\"\"Print a simple greeting to each user in the list.\"\"\"\n",
    "    for name in names:\n",
    "        msg = f\"Hello, {name.title()}!\"\n",
    "        print(msg)"
   ],
   "metadata": {
    "collapsed": false,
    "pycharm": {
     "name": "#%%\n"
    }
   }
  },
  {
   "cell_type": "code",
   "execution_count": 8,
   "outputs": [
    {
     "name": "stdout",
     "output_type": "stream",
     "text": [
      "Hello, Hannah!\n",
      "Hello, Ty!\n",
      "Hello, Margot!\n",
      "Pakistan Zindabad\n"
     ]
    }
   ],
   "source": [
    "usernames = ['hannah', 'ty', 'margot']\n",
    "greet_users(usernames)\n",
    "\n",
    "print('Pakistan Zindabad')"
   ],
   "metadata": {
    "collapsed": false,
    "pycharm": {
     "name": "#%%\n"
    }
   }
  },
  {
   "cell_type": "code",
   "execution_count": 16,
   "outputs": [
    {
     "name": "stdout",
     "output_type": "stream",
     "text": [
      "Printing no: c\n",
      "Printing no: b\n",
      "Printing no: a\n",
      "following values are printed\n",
      "c\n",
      "b\n",
      "a\n"
     ]
    }
   ],
   "source": [
    "ud=['a','b','c']\n",
    "x=[]\n",
    "while ud:\n",
    "    y=ud.pop()\n",
    "    print(f'Printing no: {y}')\n",
    "    x.append(y)\n",
    "print(\"following values are printed\")\n",
    "for z in x:\n",
    "    print(z)"
   ],
   "metadata": {
    "collapsed": false,
    "pycharm": {
     "name": "#%%\n"
    }
   }
  },
  {
   "cell_type": "code",
   "execution_count": 12,
   "outputs": [
    {
     "name": "stdout",
     "output_type": "stream",
     "text": [
      "\n",
      "Sending message to  salman\n",
      "\n",
      "Sending message to  waqas\n",
      "\n",
      "Sending message to  hammad\n",
      "\n",
      "Sending message to  ehtsham\n",
      "\n",
      "Sending message to  habibullah\n"
     ]
    }
   ],
   "source": [
    "list= ['salman','waqas', 'hammad', 'ehtsham', 'habibullah']\n",
    "def show_message(list2):\n",
    "    for l in list2:\n",
    "        print(f\"\\nSending message to  {l}\")\n",
    "def send_messages():\n",
    "    print(\"\")\n",
    "show_message(list)"
   ],
   "metadata": {
    "collapsed": false,
    "pycharm": {
     "name": "#%%\n"
    }
   }
  },
  {
   "cell_type": "code",
   "execution_count": 15,
   "outputs": [
    {
     "name": "stdout",
     "output_type": "stream",
     "text": [
      "('toyota', 'corolla', 'honda', 'civic')\n",
      "('Audi',)\n"
     ]
    }
   ],
   "source": [
    "def cars(*car):\n",
    "    print(car)\n",
    "cars('toyota','corolla','honda','civic')\n",
    "cars('Audi')"
   ],
   "metadata": {
    "collapsed": false,
    "pycharm": {
     "name": "#%%\n"
    }
   }
  },
  {
   "cell_type": "code",
   "execution_count": 21,
   "outputs": [
    {
     "name": "stdout",
     "output_type": "stream",
     "text": [
      "{'color': 'blue', 'tow_package': True, 'first_name': 'subaru', 'last_name': 'outback'}\n",
      "color:blue\n",
      "tow_package:True\n",
      "first_name:subaru\n",
      "last_name:outback\n"
     ]
    }
   ],
   "source": [
    "def build_profile(first, last, **user_info):\n",
    "    user_info['first_name'] = first\n",
    "    user_info['last_name'] = last\n",
    "    return user_info\n",
    "user_profile= build_profile('subaru', 'outback', color='blue', tow_package=True)\n",
    "print(user_profile)\n",
    "for l, i in user_profile.items():\n",
    "    print(f'{l}:{i}')"
   ],
   "metadata": {
    "collapsed": false,
    "pycharm": {
     "name": "#%%\n"
    }
   }
  }
 ],
 "metadata": {
  "kernelspec": {
   "display_name": "Python 3",
   "language": "python",
   "name": "python3"
  },
  "language_info": {
   "codemirror_mode": {
    "name": "ipython",
    "version": 2
   },
   "file_extension": ".py",
   "mimetype": "text/x-python",
   "name": "python",
   "nbconvert_exporter": "python",
   "pygments_lexer": "ipython2",
   "version": "2.7.6"
  }
 },
 "nbformat": 4,
 "nbformat_minor": 0
}